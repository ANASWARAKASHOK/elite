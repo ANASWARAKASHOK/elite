{
  "nbformat": 4,
  "nbformat_minor": 0,
  "metadata": {
    "colab": {
      "name": "IMS.ipynb",
      "provenance": []
    },
    "kernelspec": {
      "name": "python3",
      "display_name": "Python 3"
    },
    "language_info": {
      "name": "python"
    }
  },
  "cells": [
    {
      "cell_type": "code",
      "metadata": {
        "id": "GMExa8kiEPep"
      },
      "source": [
        "record = {1001:{\"Pname\":\"Sprite\",\"Quantity\":\"1\",\"Price\":\"30\",\"Discount\":\"20\",\"Category\":\"Drinks\"},\n",
        "          1002:{\"Pname\":\"Cococola\",\"Quantity\":\"2\",\"Price\":\"30\",\"Discount\":\"15\",\"Category\":\"Drinks\"},\n",
        "          1003:{\"Pname\":\"Maggie\",\"Quantity\":\"5\",\"Price\":\"50\",\"Discount\":\"5\",\"Category\":\"Food\"},\n",
        "          1004:{\"Pname\":\"Potato\",\"Quantity\":\"5\",\"Price\":\"10\",\"Discount\":\"0\",\"Category\":\"Food\"},\n",
        "          1005:{\"Pname\":\"Banana\",\"Quantity\":\"10\",\"Price\":\"52\",\"Discount\":\"10\",\"Category\":\"Food\"},\n",
        "          1006:{\"Pname\":\"Coconut\",\"Quantity\":\"4\",\"Price\":\"15\",\"Discount\":\"20\",\"Category\":\"Food\"},\n",
        "          1007:{\"Pname\":\"Frooty\",\"Quantity\":\"1\",\"Price\":\"30\",\"Discount\":\"0\",\"Category\":\"Drinks\"},\n",
        "          1008:{\"Pname\":\"CenterFresh\",\"Quantity\":\"20\",\"Price\":\"1\",\"Discount\":\"20\",\"Category\":\"Food\"},\n",
        "          1009:{\"Pname\":\"Mineral water\",\"Quantity\":\"1\",\"Price\":\"30\",\"Discount\":\"20\",\"Category\":\"Drinks\"},\n",
        "          1010:{\"Pname\":\"Jackfruit\",\"Quantity\":\"1\",\"Price\":\"68\",\"Discount\":\"20\",\"Category\":\"Food\"},\n",
        "          1011:{\"Pname\":\"Soya bean\",\"Quantity\":\"1\",\"Price\":\"32\",\"Discount\":20,\"Category\":\"Food\"},\n",
        "          1012:{\"Pname\":\"Cauliflower\",\"Quantity\":2,\"Price\":35,\"Discount\":15,\"Category\":\"Food\"},\n",
        "          1013:{\"Pname\":\"Cabbage\",\"Quantity\":5,\"Price\":28,\"Discount\":5,\"Category\":\"Food\"},\n",
        "          1014:{\"Pname\":\"Lays\",\"Quantity\":50,\"Price\":30,\"Discount\":0,\"Category\":\"Food\"},\n",
        "          1015:{\"Pname\":\"Carrot\",\"Quantity\":10,\"Price\":52,\"Discount\":10,\"Category\":\"Food\"},\n",
        "          1016:{\"Pname\":\"Chilly Powder\",\"Quantity\":1,\"Price\":30,\"Discount\":20,\"Category\":\"Spices\"},\n",
        "          1017:{\"Pname\":\"Pepper\",\"Quantity\":1,\"Price\":30,\"Discount\":20,\"Category\":\"Spices\"},\n",
        "          1018:{\"Pname\":\"Coriander Powder\",\"Quantity\":1,\"Price\":30,\"Discount\":20,\"Category\":\"Spices\"},\n",
        "          1019:{\"Pname\":\"Tomato ketchup\",\"Quantity\":1,\"Price\":80,\"Discount\":20,\"Category\":\"Food\"},\n",
        "          1020:{\"Pname\":\"Nutella\",\"Quantity\":1,\"Price\":160,\"Discount\":20,\"Category\":\"Food\"},\n",
        "          1021:{\"Pname\":\"Kinderjoy\",\"Quantity\":1,\"Price\":40,\"Discount\":20,\"Category\":\"Food\"},\n",
        "          1022:{\"Pname\":\"Pineapple Juice\",\"Quantity\":2,\"Price\":30,\"Discount\":15,\"Category\":\"Drinks\"},\n",
        "          1023:{\"Pname\":\"Lessi\",\"Quantity\":5,\"Price\":50,\"Discount\":5,\"Category\":\"Drinks\"},\n",
        "          1024:{\"Pname\":\"Milk\",\"Quantity\":6,\"Price\":30,\"Discount\":0,\"Category\":\"Drinks\"},\n",
        "          1025:{\"Pname\":\"Corn flour\",\"Quantity\":5,\"Price\":52,\"Discount\":10,\"Category\":\"Food\"},\n",
        "          1026:{\"Pname\":\"Ginger\",\"Quantity\":5,\"Price\":30,\"Discount\":20,\"Category\":\"Food\"},\n",
        "          1027:{\"Pname\":\"Wheat\",\"Quantity\":2,\"Price\":30,\"Discount\":20,\"Category\":\"Food\"},\n",
        "          1028:{\"Pname\":\"Rice\",\"Quantity\":10,\"Price\":50,\"Discount\":20,\"Category\":\"Food\"},\n",
        "          1029:{\"Pname\":\"Pappad\",\"Quantity\":2,\"Price\":30,\"Discount\":20,\"Category\":\"Food\"},\n",
        "          1030:{\"Pname\":\"Peanuts\",\"Quantity\":1,\"Price\":30,\"Discount\":2,\"Category\":\"Food\"}}"
      ],
      "execution_count": null,
      "outputs": []
    },
    {
      "cell_type": "code",
      "metadata": {
        "id": "tlFivQROEgIQ"
      },
      "source": [
        "import json"
      ],
      "execution_count": null,
      "outputs": []
    },
    {
      "cell_type": "code",
      "metadata": {
        "id": "wswYKSB7KkT5"
      },
      "source": [
        "js = json.dumps(record)"
      ],
      "execution_count": null,
      "outputs": []
    },
    {
      "cell_type": "code",
      "metadata": {
        "colab": {
          "base_uri": "https://localhost:8080/",
          "height": 222
        },
        "id": "MFcyHsf0KleR",
        "outputId": "1f3bb20b-5e5f-40cb-a201-e02cda0899e6"
      },
      "source": [
        "js"
      ],
      "execution_count": null,
      "outputs": [
        {
          "output_type": "execute_result",
          "data": {
            "application/vnd.google.colaboratory.intrinsic+json": {
              "type": "string"
            },
            "text/plain": [
              "'{\"1001\": {\"Pname\": \"Sprite\", \"Quantity\": \"1\", \"Price\": \"30\", \"Discount\": \"20\", \"Category\": \"Drinks\"}, \"1002\": {\"Pname\": \"Cococola\", \"Quantity\": \"2\", \"Price\": \"30\", \"Discount\": \"15\", \"Category\": \"Drinks\"}, \"1003\": {\"Pname\": \"Maggie\", \"Quantity\": \"5\", \"Price\": \"50\", \"Discount\": \"5\", \"Category\": \"Food\"}, \"1004\": {\"Pname\": \"Potato\", \"Quantity\": \"5\", \"Price\": \"10\", \"Discount\": \"0\", \"Category\": \"Food\"}, \"1005\": {\"Pname\": \"Banana\", \"Quantity\": \"10\", \"Price\": \"52\", \"Discount\": \"10\", \"Category\": \"Food\"}, \"1006\": {\"Pname\": \"Coconut\", \"Quantity\": \"4\", \"Price\": \"15\", \"Discount\": \"20\", \"Category\": \"Food\"}, \"1007\": {\"Pname\": \"Frooty\", \"Quantity\": \"1\", \"Price\": \"30\", \"Discount\": \"0\", \"Category\": \"Drinks\"}, \"1008\": {\"Pname\": \"CenterFresh\", \"Quantity\": \"20\", \"Price\": \"1\", \"Discount\": \"20\", \"Category\": \"Food\"}, \"1009\": {\"Pname\": \"Mineral water\", \"Quantity\": \"1\", \"Price\": \"30\", \"Discount\": \"20\", \"Category\": \"Drinks\"}, \"1010\": {\"Pname\": \"Jackfruit\", \"Quantity\": \"1\", \"Price\": \"68\", \"Discount\": \"20\", \"Category\": \"Food\"}, \"1011\": {\"Pname\": \"Soya bean\", \"Quantity\": \"1\", \"Price\": \"32\", \"Discount\": 20, \"Category\": \"Food\"}, \"1012\": {\"Pname\": \"Cauliflower\", \"Quantity\": 2, \"Price\": 35, \"Discount\": 15, \"Category\": \"Food\"}, \"1013\": {\"Pname\": \"Cabbage\", \"Quantity\": 5, \"Price\": 28, \"Discount\": 5, \"Category\": \"Food\"}, \"1014\": {\"Pname\": \"Lays\", \"Quantity\": 50, \"Price\": 30, \"Discount\": 0, \"Category\": \"Food\"}, \"1015\": {\"Pname\": \"Carrot\", \"Quantity\": 10, \"Price\": 52, \"Discount\": 10, \"Category\": \"Food\"}, \"1016\": {\"Pname\": \"Chilly Powder\", \"Quantity\": 1, \"Price\": 30, \"Discount\": 20, \"Category\": \"Spices\"}, \"1017\": {\"Pname\": \"Pepper\", \"Quantity\": 1, \"Price\": 30, \"Discount\": 20, \"Category\": \"Spices\"}, \"1018\": {\"Pname\": \"Coriander Powder\", \"Quantity\": 1, \"Price\": 30, \"Discount\": 20, \"Category\": \"Spices\"}, \"1019\": {\"Pname\": \"Tomato ketchup\", \"Quantity\": 1, \"Price\": 80, \"Discount\": 20, \"Category\": \"Food\"}, \"1020\": {\"Pname\": \"Nutella\", \"Quantity\": 1, \"Price\": 160, \"Discount\": 20, \"Category\": \"Food\"}, \"1021\": {\"Pname\": \"Kinderjoy\", \"Quantity\": 1, \"Price\": 40, \"Discount\": 20, \"Category\": \"Food\"}, \"1022\": {\"Pname\": \"Pineapple Juice\", \"Quantity\": 2, \"Price\": 30, \"Discount\": 15, \"Category\": \"Drinks\"}, \"1023\": {\"Pname\": \"Lessi\", \"Quantity\": 5, \"Price\": 50, \"Discount\": 5, \"Category\": \"Drinks\"}, \"1024\": {\"Pname\": \"Milk\", \"Quantity\": 6, \"Price\": 30, \"Discount\": 0, \"Category\": \"Drinks\"}, \"1025\": {\"Pname\": \"Corn flour\", \"Quantity\": 5, \"Price\": 52, \"Discount\": 10, \"Category\": \"Food\"}, \"1026\": {\"Pname\": \"Ginger\", \"Quantity\": 5, \"Price\": 30, \"Discount\": 20, \"Category\": \"Food\"}, \"1027\": {\"Pname\": \"Wheat\", \"Quantity\": 2, \"Price\": 30, \"Discount\": 20, \"Category\": \"Food\"}, \"1028\": {\"Pname\": \"Rice\", \"Quantity\": 10, \"Price\": 50, \"Discount\": 20, \"Category\": \"Food\"}, \"1029\": {\"Pname\": \"Pappad\", \"Quantity\": 2, \"Price\": 30, \"Discount\": 20, \"Category\": \"Food\"}, \"1030\": {\"Pname\": \"Peanuts\", \"Quantity\": 1, \"Price\": 30, \"Discount\": 2, \"Category\": \"Food\"}}'"
            ]
          },
          "metadata": {},
          "execution_count": 11
        }
      ]
    },
    {
      "cell_type": "code",
      "metadata": {
        "id": "r2xVDGeCKrJX"
      },
      "source": [
        "fd = open(\"record.json\",'w')\n",
        "fd.write(js)\n",
        "fd.close()"
      ],
      "execution_count": 13,
      "outputs": []
    },
    {
      "cell_type": "code",
      "metadata": {
        "colab": {
          "base_uri": "https://localhost:8080/",
          "height": 222
        },
        "id": "X0rZQTq4K3XV",
        "outputId": "8f27f6a9-bc22-4f97-802a-00c1461ea1b3"
      },
      "source": [
        "js"
      ],
      "execution_count": 14,
      "outputs": [
        {
          "output_type": "execute_result",
          "data": {
            "application/vnd.google.colaboratory.intrinsic+json": {
              "type": "string"
            },
            "text/plain": [
              "'{\"1001\": {\"Pname\": \"Sprite\", \"Quantity\": \"1\", \"Price\": \"30\", \"Discount\": \"20\", \"Category\": \"Drinks\"}, \"1002\": {\"Pname\": \"Cococola\", \"Quantity\": \"2\", \"Price\": \"30\", \"Discount\": \"15\", \"Category\": \"Drinks\"}, \"1003\": {\"Pname\": \"Maggie\", \"Quantity\": \"5\", \"Price\": \"50\", \"Discount\": \"5\", \"Category\": \"Food\"}, \"1004\": {\"Pname\": \"Potato\", \"Quantity\": \"5\", \"Price\": \"10\", \"Discount\": \"0\", \"Category\": \"Food\"}, \"1005\": {\"Pname\": \"Banana\", \"Quantity\": \"10\", \"Price\": \"52\", \"Discount\": \"10\", \"Category\": \"Food\"}, \"1006\": {\"Pname\": \"Coconut\", \"Quantity\": \"4\", \"Price\": \"15\", \"Discount\": \"20\", \"Category\": \"Food\"}, \"1007\": {\"Pname\": \"Frooty\", \"Quantity\": \"1\", \"Price\": \"30\", \"Discount\": \"0\", \"Category\": \"Drinks\"}, \"1008\": {\"Pname\": \"CenterFresh\", \"Quantity\": \"20\", \"Price\": \"1\", \"Discount\": \"20\", \"Category\": \"Food\"}, \"1009\": {\"Pname\": \"Mineral water\", \"Quantity\": \"1\", \"Price\": \"30\", \"Discount\": \"20\", \"Category\": \"Drinks\"}, \"1010\": {\"Pname\": \"Jackfruit\", \"Quantity\": \"1\", \"Price\": \"68\", \"Discount\": \"20\", \"Category\": \"Food\"}, \"1011\": {\"Pname\": \"Soya bean\", \"Quantity\": \"1\", \"Price\": \"32\", \"Discount\": 20, \"Category\": \"Food\"}, \"1012\": {\"Pname\": \"Cauliflower\", \"Quantity\": 2, \"Price\": 35, \"Discount\": 15, \"Category\": \"Food\"}, \"1013\": {\"Pname\": \"Cabbage\", \"Quantity\": 5, \"Price\": 28, \"Discount\": 5, \"Category\": \"Food\"}, \"1014\": {\"Pname\": \"Lays\", \"Quantity\": 50, \"Price\": 30, \"Discount\": 0, \"Category\": \"Food\"}, \"1015\": {\"Pname\": \"Carrot\", \"Quantity\": 10, \"Price\": 52, \"Discount\": 10, \"Category\": \"Food\"}, \"1016\": {\"Pname\": \"Chilly Powder\", \"Quantity\": 1, \"Price\": 30, \"Discount\": 20, \"Category\": \"Spices\"}, \"1017\": {\"Pname\": \"Pepper\", \"Quantity\": 1, \"Price\": 30, \"Discount\": 20, \"Category\": \"Spices\"}, \"1018\": {\"Pname\": \"Coriander Powder\", \"Quantity\": 1, \"Price\": 30, \"Discount\": 20, \"Category\": \"Spices\"}, \"1019\": {\"Pname\": \"Tomato ketchup\", \"Quantity\": 1, \"Price\": 80, \"Discount\": 20, \"Category\": \"Food\"}, \"1020\": {\"Pname\": \"Nutella\", \"Quantity\": 1, \"Price\": 160, \"Discount\": 20, \"Category\": \"Food\"}, \"1021\": {\"Pname\": \"Kinderjoy\", \"Quantity\": 1, \"Price\": 40, \"Discount\": 20, \"Category\": \"Food\"}, \"1022\": {\"Pname\": \"Pineapple Juice\", \"Quantity\": 2, \"Price\": 30, \"Discount\": 15, \"Category\": \"Drinks\"}, \"1023\": {\"Pname\": \"Lessi\", \"Quantity\": 5, \"Price\": 50, \"Discount\": 5, \"Category\": \"Drinks\"}, \"1024\": {\"Pname\": \"Milk\", \"Quantity\": 6, \"Price\": 30, \"Discount\": 0, \"Category\": \"Drinks\"}, \"1025\": {\"Pname\": \"Corn flour\", \"Quantity\": 5, \"Price\": 52, \"Discount\": 10, \"Category\": \"Food\"}, \"1026\": {\"Pname\": \"Ginger\", \"Quantity\": 5, \"Price\": 30, \"Discount\": 20, \"Category\": \"Food\"}, \"1027\": {\"Pname\": \"Wheat\", \"Quantity\": 2, \"Price\": 30, \"Discount\": 20, \"Category\": \"Food\"}, \"1028\": {\"Pname\": \"Rice\", \"Quantity\": 10, \"Price\": 50, \"Discount\": 20, \"Category\": \"Food\"}, \"1029\": {\"Pname\": \"Pappad\", \"Quantity\": 2, \"Price\": 30, \"Discount\": 20, \"Category\": \"Food\"}, \"1030\": {\"Pname\": \"Peanuts\", \"Quantity\": 1, \"Price\": 30, \"Discount\": 2, \"Category\": \"Food\"}}'"
            ]
          },
          "metadata": {},
          "execution_count": 14
        }
      ]
    },
    {
      "cell_type": "code",
      "metadata": {
        "colab": {
          "base_uri": "https://localhost:8080/"
        },
        "id": "V-tEtDLOL-Ra",
        "outputId": "58d7c6f3-5cd8-4daa-9da7-ee09f93ea6f8"
      },
      "source": [
        "type(txt)"
      ],
      "execution_count": null,
      "outputs": [
        {
          "output_type": "execute_result",
          "data": {
            "text/plain": [
              "str"
            ]
          },
          "metadata": {},
          "execution_count": 58
        }
      ]
    },
    {
      "cell_type": "code",
      "metadata": {
        "id": "48IHMPqoMIRM"
      },
      "source": [
        "products = txt.split(\"}\")"
      ],
      "execution_count": null,
      "outputs": []
    },
    {
      "cell_type": "code",
      "metadata": {
        "colab": {
          "base_uri": "https://localhost:8080/"
        },
        "id": "7J9iJwhCMxyt",
        "outputId": "f5f6c64d-1712-4160-c181-cba3947b1b5c"
      },
      "source": [
        "products"
      ],
      "execution_count": null,
      "outputs": [
        {
          "output_type": "execute_result",
          "data": {
            "text/plain": [
              "['{\"1001\": {\"Pname\": \"Sprite\", \"Quantity\": 1, \"Price\": 30, \"Discount\": 20, \"Category\": \"Drinks\"',\n",
              " ', \"1002\": {\"Pname\": \"Cococola\", \"Quantity\": 2, \"Price\": 30, \"Discount\": 15, \"Category\": \"Drinks\"',\n",
              " ', \"1003\": {\"Pname\": \"Maggie\", \"Quantity\": 5, \"Price\": 50, \"Discount\": 5, \"Category\": \"Food\"',\n",
              " ', \"1004\": {\"Pname\": \"Potato\", \"Quantity\": 5, \"Price\": 10, \"Discount\": 0, \"Category\": \"Food\"',\n",
              " ', \"1005\": {\"Pname\": \"Banana\", \"Quantity\": 10, \"Price\": 52, \"Discount\": 10, \"Category\": \"Food\"',\n",
              " ', \"1006\": {\"Pname\": \"Coconut\", \"Quantity\": 4, \"Price\": 15, \"Discount\": 20, \"Category\": \"Food\"',\n",
              " ', \"1007\": {\"Pname\": \"Frooty\", \"Quantity\": 1, \"Price\": 30, \"Discount\": 0, \"Category\": \"Drinks\"',\n",
              " ', \"1008\": {\"Pname\": \"CenterFresh\", \"Quantity\": 20, \"Price\": 1, \"Discount\": 20, \"Category\": \"Food\"',\n",
              " ', \"1009\": {\"Pname\": \"Mineral water\", \"Quantity\": 1, \"Price\": 30, \"Discount\": 20, \"Category\": \"Drinks\"',\n",
              " ', \"1010\": {\"Pname\": \"Jackfruit\", \"Quantity\": 1, \"Price\": 68, \"Discount\": 20, \"Category\": \"Food\"',\n",
              " ', \"1011\": {\"Pname\": \"Soya bean\", \"Quantity\": 1, \"Price\": 32, \"Discount\": 20, \"Category\": \"Food\"',\n",
              " ', \"1012\": {\"Pname\": \"Cauliflower\", \"Quantity\": 2, \"Price\": 35, \"Discount\": 15, \"Category\": \"Food\"',\n",
              " ', \"1013\": {\"Pname\": \"Cabbage\", \"Quantity\": 5, \"Price\": 28, \"Discount\": 5, \"Category\": \"Food\"',\n",
              " ', \"1014\": {\"Pname\": \"Lays\", \"Quantity\": 50, \"Price\": 30, \"Discount\": 0, \"Category\": \"Food\"',\n",
              " ', \"1015\": {\"Pname\": \"Carrot\", \"Quantity\": 10, \"Price\": 52, \"Discount\": 10, \"Category\": \"Food\"',\n",
              " ', \"1016\": {\"Pname\": \"Chilly Powder\", \"Quantity\": 1, \"Price\": 30, \"Discount\": 20, \"Category\": \"Spices\"',\n",
              " ', \"1017\": {\"Pname\": \"Pepper\", \"Quantity\": 1, \"Price\": 30, \"Discount\": 20, \"Category\": \"Spices\"',\n",
              " ', \"1018\": {\"Pname\": \"Coriander Powder\", \"Quantity\": 1, \"Price\": 30, \"Discount\": 20, \"Category\": \"Spices\"',\n",
              " ', \"1019\": {\"Pname\": \"Tomato ketchup\", \"Quantity\": 1, \"Price\": 80, \"Discount\": 20, \"Category\": \"Food\"',\n",
              " ', \"1020\": {\"Pname\": \"Nutella\", \"Quantity\": 1, \"Price\": 160, \"Discount\": 20, \"Category\": \"Food\"',\n",
              " ', \"1021\": {\"Pname\": \"Kinderjoy\", \"Quantity\": 1, \"Price\": 40, \"Discount\": 20, \"Category\": \"Food\"',\n",
              " ', \"1022\": {\"Pname\": \"Pineapple Juice\", \"Quantity\": 2, \"Price\": 30, \"Discount\": 15, \"Category\": \"Drinks\"',\n",
              " ', \"1023\": {\"Pname\": \"Lessi\", \"Quantity\": 5, \"Price\": 50, \"Discount\": 5, \"Category\": \"Drinks\"',\n",
              " ', \"1024\": {\"Pname\": \"Milk\", \"Quantity\": 6, \"Price\": 30, \"Discount\": 0, \"Category\": \"Drinks\"',\n",
              " ', \"1025\": {\"Pname\": \"Corn flour\", \"Quantity\": 5, \"Price\": 52, \"Discount\": 10, \"Category\": \"Food\"',\n",
              " ', \"1026\": {\"Pname\": \"Ginger\", \"Quantity\": 5, \"Price\": 30, \"Discount\": 20, \"Category\": \"Food\"',\n",
              " ', \"1027\": {\"Pname\": \"Wheat\", \"Quantity\": 2, \"Price\": 30, \"Discount\": 20, \"Category\": \"Food\"',\n",
              " ', \"1028\": {\"Pname\": \"Rice\", \"Quantity\": 10, \"Price\": 50, \"Discount\": 20, \"Category\": \"Food\"',\n",
              " ', \"1029\": {\"Pname\": \"Pappad\", \"Quantity\": 2, \"Price\": 30, \"Discount\": 20, \"Category\": \"Food\"',\n",
              " ', \"1030\": {\"Pname\": \"Peanuts\", \"Quantity\": 1, \"Price\": 30, \"Discount\": 2, \"Category\": \"Food\"',\n",
              " '',\n",
              " '']"
            ]
          },
          "metadata": {},
          "execution_count": 60
        }
      ]
    },
    {
      "cell_type": "code",
      "metadata": {
        "colab": {
          "base_uri": "https://localhost:8080/"
        },
        "id": "cewCHaSGM0BI",
        "outputId": "92f460e3-8996-454a-9bdf-e20ac9e3530f"
      },
      "source": [
        "for i in products:\n",
        "  print(i.split(\",\"))"
      ],
      "execution_count": null,
      "outputs": [
        {
          "output_type": "stream",
          "name": "stdout",
          "text": [
            "['{\"1001\": {\"Pname\": \"Sprite\"', ' \"Quantity\": 1', ' \"Price\": 30', ' \"Discount\": 20', ' \"Category\": \"Drinks\"']\n",
            "['', ' \"1002\": {\"Pname\": \"Cococola\"', ' \"Quantity\": 2', ' \"Price\": 30', ' \"Discount\": 15', ' \"Category\": \"Drinks\"']\n",
            "['', ' \"1003\": {\"Pname\": \"Maggie\"', ' \"Quantity\": 5', ' \"Price\": 50', ' \"Discount\": 5', ' \"Category\": \"Food\"']\n",
            "['', ' \"1004\": {\"Pname\": \"Potato\"', ' \"Quantity\": 5', ' \"Price\": 10', ' \"Discount\": 0', ' \"Category\": \"Food\"']\n",
            "['', ' \"1005\": {\"Pname\": \"Banana\"', ' \"Quantity\": 10', ' \"Price\": 52', ' \"Discount\": 10', ' \"Category\": \"Food\"']\n",
            "['', ' \"1006\": {\"Pname\": \"Coconut\"', ' \"Quantity\": 4', ' \"Price\": 15', ' \"Discount\": 20', ' \"Category\": \"Food\"']\n",
            "['', ' \"1007\": {\"Pname\": \"Frooty\"', ' \"Quantity\": 1', ' \"Price\": 30', ' \"Discount\": 0', ' \"Category\": \"Drinks\"']\n",
            "['', ' \"1008\": {\"Pname\": \"CenterFresh\"', ' \"Quantity\": 20', ' \"Price\": 1', ' \"Discount\": 20', ' \"Category\": \"Food\"']\n",
            "['', ' \"1009\": {\"Pname\": \"Mineral water\"', ' \"Quantity\": 1', ' \"Price\": 30', ' \"Discount\": 20', ' \"Category\": \"Drinks\"']\n",
            "['', ' \"1010\": {\"Pname\": \"Jackfruit\"', ' \"Quantity\": 1', ' \"Price\": 68', ' \"Discount\": 20', ' \"Category\": \"Food\"']\n",
            "['', ' \"1011\": {\"Pname\": \"Soya bean\"', ' \"Quantity\": 1', ' \"Price\": 32', ' \"Discount\": 20', ' \"Category\": \"Food\"']\n",
            "['', ' \"1012\": {\"Pname\": \"Cauliflower\"', ' \"Quantity\": 2', ' \"Price\": 35', ' \"Discount\": 15', ' \"Category\": \"Food\"']\n",
            "['', ' \"1013\": {\"Pname\": \"Cabbage\"', ' \"Quantity\": 5', ' \"Price\": 28', ' \"Discount\": 5', ' \"Category\": \"Food\"']\n",
            "['', ' \"1014\": {\"Pname\": \"Lays\"', ' \"Quantity\": 50', ' \"Price\": 30', ' \"Discount\": 0', ' \"Category\": \"Food\"']\n",
            "['', ' \"1015\": {\"Pname\": \"Carrot\"', ' \"Quantity\": 10', ' \"Price\": 52', ' \"Discount\": 10', ' \"Category\": \"Food\"']\n",
            "['', ' \"1016\": {\"Pname\": \"Chilly Powder\"', ' \"Quantity\": 1', ' \"Price\": 30', ' \"Discount\": 20', ' \"Category\": \"Spices\"']\n",
            "['', ' \"1017\": {\"Pname\": \"Pepper\"', ' \"Quantity\": 1', ' \"Price\": 30', ' \"Discount\": 20', ' \"Category\": \"Spices\"']\n",
            "['', ' \"1018\": {\"Pname\": \"Coriander Powder\"', ' \"Quantity\": 1', ' \"Price\": 30', ' \"Discount\": 20', ' \"Category\": \"Spices\"']\n",
            "['', ' \"1019\": {\"Pname\": \"Tomato ketchup\"', ' \"Quantity\": 1', ' \"Price\": 80', ' \"Discount\": 20', ' \"Category\": \"Food\"']\n",
            "['', ' \"1020\": {\"Pname\": \"Nutella\"', ' \"Quantity\": 1', ' \"Price\": 160', ' \"Discount\": 20', ' \"Category\": \"Food\"']\n",
            "['', ' \"1021\": {\"Pname\": \"Kinderjoy\"', ' \"Quantity\": 1', ' \"Price\": 40', ' \"Discount\": 20', ' \"Category\": \"Food\"']\n",
            "['', ' \"1022\": {\"Pname\": \"Pineapple Juice\"', ' \"Quantity\": 2', ' \"Price\": 30', ' \"Discount\": 15', ' \"Category\": \"Drinks\"']\n",
            "['', ' \"1023\": {\"Pname\": \"Lessi\"', ' \"Quantity\": 5', ' \"Price\": 50', ' \"Discount\": 5', ' \"Category\": \"Drinks\"']\n",
            "['', ' \"1024\": {\"Pname\": \"Milk\"', ' \"Quantity\": 6', ' \"Price\": 30', ' \"Discount\": 0', ' \"Category\": \"Drinks\"']\n",
            "['', ' \"1025\": {\"Pname\": \"Corn flour\"', ' \"Quantity\": 5', ' \"Price\": 52', ' \"Discount\": 10', ' \"Category\": \"Food\"']\n",
            "['', ' \"1026\": {\"Pname\": \"Ginger\"', ' \"Quantity\": 5', ' \"Price\": 30', ' \"Discount\": 20', ' \"Category\": \"Food\"']\n",
            "['', ' \"1027\": {\"Pname\": \"Wheat\"', ' \"Quantity\": 2', ' \"Price\": 30', ' \"Discount\": 20', ' \"Category\": \"Food\"']\n",
            "['', ' \"1028\": {\"Pname\": \"Rice\"', ' \"Quantity\": 10', ' \"Price\": 50', ' \"Discount\": 20', ' \"Category\": \"Food\"']\n",
            "['', ' \"1029\": {\"Pname\": \"Pappad\"', ' \"Quantity\": 2', ' \"Price\": 30', ' \"Discount\": 20', ' \"Category\": \"Food\"']\n",
            "['', ' \"1030\": {\"Pname\": \"Peanuts\"', ' \"Quantity\": 1', ' \"Price\": 30', ' \"Discount\": 2', ' \"Category\": \"Food\"']\n",
            "['']\n",
            "['']\n"
          ]
        }
      ]
    },
    {
      "cell_type": "code",
      "metadata": {
        "colab": {
          "base_uri": "https://localhost:8080/",
          "height": 248
        },
        "id": "_uJoqb2FNMqA",
        "outputId": "75bf1f31-bbab-4a96-8983-96311bcf52c4"
      },
      "source": [
        "ui_prod = input(\"Enter the product id:\")\n",
        "ui_quant = input(\"Enter quantity:\")\n",
        "\n",
        "for i in products:\n",
        "  prod = i.split(\",\")\n",
        "  if(ui_prod == record[0]):\n",
        "    print(record[0])"
      ],
      "execution_count": null,
      "outputs": [
        {
          "name": "stdout",
          "output_type": "stream",
          "text": [
            "Enter the product id:1001\n",
            "Enter quantity:2\n"
          ]
        },
        {
          "output_type": "error",
          "ename": "KeyError",
          "evalue": "ignored",
          "traceback": [
            "\u001b[0;31m---------------------------------------------------------------------------\u001b[0m",
            "\u001b[0;31mKeyError\u001b[0m                                  Traceback (most recent call last)",
            "\u001b[0;32m<ipython-input-62-1061030bf0bf>\u001b[0m in \u001b[0;36m<module>\u001b[0;34m()\u001b[0m\n\u001b[1;32m      4\u001b[0m \u001b[0;32mfor\u001b[0m \u001b[0mi\u001b[0m \u001b[0;32min\u001b[0m \u001b[0mproducts\u001b[0m\u001b[0;34m:\u001b[0m\u001b[0;34m\u001b[0m\u001b[0;34m\u001b[0m\u001b[0m\n\u001b[1;32m      5\u001b[0m   \u001b[0mprod\u001b[0m \u001b[0;34m=\u001b[0m \u001b[0mi\u001b[0m\u001b[0;34m.\u001b[0m\u001b[0msplit\u001b[0m\u001b[0;34m(\u001b[0m\u001b[0;34m\",\"\u001b[0m\u001b[0;34m)\u001b[0m\u001b[0;34m\u001b[0m\u001b[0;34m\u001b[0m\u001b[0m\n\u001b[0;32m----> 6\u001b[0;31m   \u001b[0;32mif\u001b[0m\u001b[0;34m(\u001b[0m\u001b[0mui_prod\u001b[0m \u001b[0;34m==\u001b[0m \u001b[0mrecord\u001b[0m\u001b[0;34m[\u001b[0m\u001b[0;36m0\u001b[0m\u001b[0;34m]\u001b[0m\u001b[0;34m)\u001b[0m\u001b[0;34m:\u001b[0m\u001b[0;34m\u001b[0m\u001b[0;34m\u001b[0m\u001b[0m\n\u001b[0m\u001b[1;32m      7\u001b[0m     \u001b[0mprint\u001b[0m\u001b[0;34m(\u001b[0m\u001b[0mrecord\u001b[0m\u001b[0;34m[\u001b[0m\u001b[0;36m0\u001b[0m\u001b[0;34m]\u001b[0m\u001b[0;34m)\u001b[0m\u001b[0;34m\u001b[0m\u001b[0;34m\u001b[0m\u001b[0m\n",
            "\u001b[0;31mKeyError\u001b[0m: 0"
          ]
        }
      ]
    },
    {
      "cell_type": "code",
      "metadata": {
        "id": "Y6nYVmjhNWu_"
      },
      "source": [
        "1001==int('1001')"
      ],
      "execution_count": null,
      "outputs": []
    },
    {
      "cell_type": "code",
      "metadata": {
        "id": "2DM7TXO3O1Pg"
      },
      "source": [
        "\n"
      ],
      "execution_count": null,
      "outputs": []
    }
  ]
}